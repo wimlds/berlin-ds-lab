{
 "cells": [
  {
   "cell_type": "code",
   "execution_count": 38,
   "metadata": {},
   "outputs": [],
   "source": [
    "import pandas as pd\n",
    "pd.set_option('display.max_columns', 55)\n",
    "import random\n",
    "import numpy as np\n",
    "\n",
    "from pathlib import Path\n",
    "\n",
    "%matplotlib inline"
   ]
  },
  {
   "cell_type": "code",
   "execution_count": 39,
   "metadata": {},
   "outputs": [],
   "source": [
    "DATA_DIR = Path(\"/mnt/data2/cars/\")"
   ]
  },
  {
   "cell_type": "markdown",
   "metadata": {},
   "source": [
    "# Read dataset"
   ]
  },
  {
   "cell_type": "code",
   "execution_count": 40,
   "metadata": {},
   "outputs": [
    {
     "name": "stdout",
     "output_type": "stream",
     "text": [
      "2004\n",
      "2005\n",
      "2006\n",
      "2007\n",
      "2008\n",
      "2009\n",
      "2010\n",
      "2011\n",
      "2012\n",
      "2013\n",
      "2014\n",
      "2015\n",
      "2016\n",
      "2017\n",
      "2018\n"
     ]
    }
   ],
   "source": [
    "def read_year(year):\n",
    "    print(year)\n",
    "    filename = DATA_DIR / \"VehicleEmissions{}_CABQ-en-us.csv\".format(year)\n",
    "    if year == 2016 or year == 2017:\n",
    "        return pd.read_csv(filename, sep=\",\", dtype=str)    \n",
    "    else:\n",
    "        return pd.read_csv(filename, encoding=\"utf-16\", dtype=str, sep=\"\\t\")\n",
    "\n",
    "cars = [read_year(year) for year in range(2004, 2019)]"
   ]
  },
  {
   "cell_type": "code",
   "execution_count": 41,
   "metadata": {},
   "outputs": [],
   "source": [
    "columns = cars[0].columns\n",
    "for df in cars:\n",
    "    assert list(df.columns) == list(columns)"
   ]
  },
  {
   "cell_type": "code",
   "execution_count": 42,
   "metadata": {},
   "outputs": [],
   "source": [
    "cars = pd.concat(cars)\n",
    "cars = cars.reset_index(drop=True)"
   ]
  },
  {
   "cell_type": "code",
   "execution_count": 43,
   "metadata": {},
   "outputs": [
    {
     "data": {
      "text/plain": [
       "4091788"
      ]
     },
     "execution_count": 43,
     "metadata": {},
     "output_type": "execute_result"
    }
   ],
   "source": [
    "len(cars)"
   ]
  },
  {
   "cell_type": "code",
   "execution_count": 44,
   "metadata": {},
   "outputs": [],
   "source": [
    "# remove whitespace\n",
    "for col in cars.columns:\n",
    "    cars[col] = cars[col].str.strip()"
   ]
  },
  {
   "cell_type": "code",
   "execution_count": 45,
   "metadata": {},
   "outputs": [],
   "source": [
    "# Parse dates, this will unify the different date formats used in the dataset\n",
    "time_columns = [\"TEST_SDATE\", \"TEST_EDATE\"]\n",
    "for col in time_columns:\n",
    "    cars[col] = pd.to_datetime(cars[col])"
   ]
  },
  {
   "cell_type": "markdown",
   "metadata": {},
   "source": [
    "# Get statistics before cleanup"
   ]
  },
  {
   "cell_type": "code",
   "execution_count": 49,
   "metadata": {},
   "outputs": [
    {
     "name": "stdout",
     "output_type": "stream",
     "text": [
      "Number of rows 4091788\n",
      "Number of columns 127\n",
      "Number of cars 1337877\n",
      "%fail 0.11371456420690297\n"
     ]
    }
   ],
   "source": [
    "print(\"Number of rows\", len(cars))\n",
    "print(\"Number of columns\", len(cars.columns))\n",
    "print(\"Number of cars\", cars[\"VIN\"].nunique())\n",
    "results = cars[\"OVERALL_RESULT\"].value_counts()\n",
    "print(\"%fail\", results.loc[\"F\"] / (results.loc[\"P\"]+results.loc[\"F\"]))"
   ]
  },
  {
   "cell_type": "markdown",
   "metadata": {},
   "source": [
    "# Remove invalid rows"
   ]
  },
  {
   "cell_type": "markdown",
   "metadata": {},
   "source": [
    "### Invalid VIN"
   ]
  },
  {
   "cell_type": "code",
   "execution_count": 50,
   "metadata": {},
   "outputs": [
    {
     "name": "stdout",
     "output_type": "stream",
     "text": [
      "Number of rows with incorrect length VIN: 108846\n",
      "Number of rows with all-zero VIN: 32\n"
     ]
    }
   ],
   "source": [
    "incorrect_vin_length = cars[\"VIN\"].str.len() != 17\n",
    "vin_all_zeros = cars[\"VIN\"] == \"00000000000000000\"\n",
    "print(\"Number of rows with incorrect length VIN: {}\".format(incorrect_vin_length.sum()))\n",
    "print(\"Number of rows with all-zero VIN: {}\".format(vin_all_zeros.sum()))\n",
    "\n",
    "cars = cars[(~incorrect_vin_length) & (~vin_all_zeros)]"
   ]
  },
  {
   "cell_type": "markdown",
   "metadata": {},
   "source": [
    "### Training inspectors"
   ]
  },
  {
   "cell_type": "markdown",
   "metadata": {},
   "source": [
    "The dataset also contains records for inspections that were done to train new inspectors. These do not hold any\n",
    "value for our models and should be removed. Only some inspections are clearly marked, for others need to notice weird\n",
    "inspection patterns. I found the following markers of training inspections\n",
    "\n",
    "* TEST_TYPE = T\n",
    "* MECHANIC_LAST_NAME=PRACTICE\n",
    "* many inspections on the same date\n",
    "\n",
    "To be safe, completely remove any cars that ever were involved with a training"
   ]
  },
  {
   "cell_type": "markdown",
   "metadata": {},
   "source": [
    "#### Explicitly marked as training"
   ]
  },
  {
   "cell_type": "code",
   "execution_count": 51,
   "metadata": {},
   "outputs": [
    {
     "name": "stdout",
     "output_type": "stream",
     "text": [
      "Number of cars explicitly marked as training: 872\n"
     ]
    }
   ],
   "source": [
    "training = cars[\"TEST_TYPE\"] == \"T\"\n",
    "bad_vins = cars[training][\"VIN\"].unique()\n",
    "\n",
    "print(\"Number of cars explicitly marked as training: {}\".format(len(bad_vins)))\n",
    "cars = cars[~cars[\"VIN\"].isin(bad_vins)]"
   ]
  },
  {
   "cell_type": "markdown",
   "metadata": {},
   "source": [
    "#### Inspector name is \"practice\" or \"PRACTICE\""
   ]
  },
  {
   "cell_type": "code",
   "execution_count": 52,
   "metadata": {},
   "outputs": [
    {
     "name": "stdout",
     "output_type": "stream",
     "text": [
      "Number of cars implicitly marked as training: 11369\n"
     ]
    }
   ],
   "source": [
    "training = (cars[\"MECHANIC_LAST_NAME\"].str.lower() == \"practice\") &  (cars[\"MECHANIC_FIRST_NAME\"].str.lower() == \"test\")\n",
    "bad_vins = cars[training][\"VIN\"].unique()\n",
    "\n",
    "print(\"Number of cars implicitly marked as training: {}\".format(len(bad_vins)))\n",
    "cars = cars[~cars[\"VIN\"].isin(bad_vins)]"
   ]
  },
  {
   "cell_type": "markdown",
   "metadata": {},
   "source": [
    "#### Many tests per day"
   ]
  },
  {
   "cell_type": "code",
   "execution_count": 53,
   "metadata": {},
   "outputs": [
    {
     "data": {
      "text/plain": [
       "1FTPX14585NA67218    86\n",
       "1GCDC14H0CF378531    74\n",
       "5TBBT44172S257014    41\n",
       "1FMPU18L3YLC29124    41\n",
       "1HGCR2F3XDA126951    41\n",
       "Name: VIN, dtype: int64"
      ]
     },
     "execution_count": 53,
     "metadata": {},
     "output_type": "execute_result"
    }
   ],
   "source": [
    "# some cars have had a *lot* of tests\n",
    "cars[\"VIN\"].value_counts().head()"
   ]
  },
  {
   "cell_type": "code",
   "execution_count": 54,
   "metadata": {},
   "outputs": [
    {
     "data": {
      "text/plain": [
       "2016-02-05    60\n",
       "2016-02-08    21\n",
       "2010-06-02     1\n",
       "2014-11-07     1\n",
       "2016-12-15     1\n",
       "2008-06-16     1\n",
       "2012-10-04     1\n",
       "Name: TEST_SDATE, dtype: int64"
      ]
     },
     "execution_count": 54,
     "metadata": {},
     "output_type": "execute_result"
    }
   ],
   "source": [
    "# typcially a huge number of tests happen on the same day\n",
    "cars[cars[\"VIN\"] == \"1FTPX14585NA67218\"][\"TEST_SDATE\"].dt.date.value_counts()"
   ]
  },
  {
   "cell_type": "code",
   "execution_count": 55,
   "metadata": {},
   "outputs": [
    {
     "data": {
      "text/html": [
       "<div>\n",
       "<style scoped>\n",
       "    .dataframe tbody tr th:only-of-type {\n",
       "        vertical-align: middle;\n",
       "    }\n",
       "\n",
       "    .dataframe tbody tr th {\n",
       "        vertical-align: top;\n",
       "    }\n",
       "\n",
       "    .dataframe thead th {\n",
       "        text-align: right;\n",
       "    }\n",
       "</style>\n",
       "<table border=\"1\" class=\"dataframe\">\n",
       "  <thead>\n",
       "    <tr style=\"text-align: right;\">\n",
       "      <th></th>\n",
       "      <th>TEST_SDATE</th>\n",
       "      <th>INSPECTOR_NUM</th>\n",
       "      <th>OVERALL_RESULT</th>\n",
       "    </tr>\n",
       "  </thead>\n",
       "  <tbody>\n",
       "    <tr>\n",
       "      <th>1246060</th>\n",
       "      <td>2008-06-16 11:11:00</td>\n",
       "      <td>1809071</td>\n",
       "      <td>P</td>\n",
       "    </tr>\n",
       "    <tr>\n",
       "      <th>1809834</th>\n",
       "      <td>2010-06-02 07:24:00</td>\n",
       "      <td>1809071</td>\n",
       "      <td>P</td>\n",
       "    </tr>\n",
       "    <tr>\n",
       "      <th>2397724</th>\n",
       "      <td>2012-10-04 14:24:00</td>\n",
       "      <td>AC084153</td>\n",
       "      <td>P</td>\n",
       "    </tr>\n",
       "    <tr>\n",
       "      <th>2746854</th>\n",
       "      <td>2014-11-07 11:22:00</td>\n",
       "      <td>AC084272</td>\n",
       "      <td>P</td>\n",
       "    </tr>\n",
       "    <tr>\n",
       "      <th>3299297</th>\n",
       "      <td>2016-02-05 09:14:21</td>\n",
       "      <td>EHVPMLWP</td>\n",
       "      <td>P</td>\n",
       "    </tr>\n",
       "    <tr>\n",
       "      <th>3299298</th>\n",
       "      <td>2016-02-05 09:23:00</td>\n",
       "      <td>EHVPMLWP</td>\n",
       "      <td>P</td>\n",
       "    </tr>\n",
       "    <tr>\n",
       "      <th>3299299</th>\n",
       "      <td>2016-02-05 09:28:06</td>\n",
       "      <td>EHVPMLWP</td>\n",
       "      <td>P</td>\n",
       "    </tr>\n",
       "    <tr>\n",
       "      <th>3299300</th>\n",
       "      <td>2016-02-05 09:32:26</td>\n",
       "      <td>EHVPMLWP</td>\n",
       "      <td>P</td>\n",
       "    </tr>\n",
       "    <tr>\n",
       "      <th>3299301</th>\n",
       "      <td>2016-02-05 09:37:03</td>\n",
       "      <td>EHVPMLWP</td>\n",
       "      <td>P</td>\n",
       "    </tr>\n",
       "    <tr>\n",
       "      <th>3299302</th>\n",
       "      <td>2016-02-05 09:40:48</td>\n",
       "      <td>EHVPMLWP</td>\n",
       "      <td>P</td>\n",
       "    </tr>\n",
       "  </tbody>\n",
       "</table>\n",
       "</div>"
      ],
      "text/plain": [
       "                 TEST_SDATE INSPECTOR_NUM OVERALL_RESULT\n",
       "1246060 2008-06-16 11:11:00       1809071              P\n",
       "1809834 2010-06-02 07:24:00       1809071              P\n",
       "2397724 2012-10-04 14:24:00      AC084153              P\n",
       "2746854 2014-11-07 11:22:00      AC084272              P\n",
       "3299297 2016-02-05 09:14:21      EHVPMLWP              P\n",
       "3299298 2016-02-05 09:23:00      EHVPMLWP              P\n",
       "3299299 2016-02-05 09:28:06      EHVPMLWP              P\n",
       "3299300 2016-02-05 09:32:26      EHVPMLWP              P\n",
       "3299301 2016-02-05 09:37:03      EHVPMLWP              P\n",
       "3299302 2016-02-05 09:40:48      EHVPMLWP              P"
      ]
     },
     "execution_count": 55,
     "metadata": {},
     "output_type": "execute_result"
    }
   ],
   "source": [
    "# zooming in see many consecutive tests that all are \"pass\" - not a normal pattern\n",
    "cars[cars[\"VIN\"] == \"1FTPX14585NA67218\"][[\"TEST_SDATE\", \"INSPECTOR_NUM\", \"OVERALL_RESULT\"]].head(10)"
   ]
  },
  {
   "cell_type": "code",
   "execution_count": 56,
   "metadata": {},
   "outputs": [
    {
     "data": {
      "text/plain": [
       "1     3449808\n",
       "2      193246\n",
       "3       16697\n",
       "4        3190\n",
       "5         587\n",
       "6         194\n",
       "7          53\n",
       "8          22\n",
       "9          11\n",
       "10          4\n",
       "12          2\n",
       "11          2\n",
       "60          1\n",
       "21          1\n",
       "dtype: int64"
      ]
     },
     "execution_count": 56,
     "metadata": {},
     "output_type": "execute_result"
    }
   ],
   "source": [
    "# having more than 3 tests per day is very unlikely\n",
    "cars[\"TEST_SDATE_DAY\"] = cars[\"TEST_SDATE\"].dt.date\n",
    "num_tests_per_day = cars.groupby([\"VIN\", \"TEST_SDATE_DAY\"]).size()\n",
    "del cars[\"TEST_SDATE_DAY\"]\n",
    "num_tests_per_day.value_counts()"
   ]
  },
  {
   "cell_type": "code",
   "execution_count": 57,
   "metadata": {},
   "outputs": [
    {
     "name": "stdout",
     "output_type": "stream",
     "text": [
      "number of cars that experience weird testing patterns: 3986\n"
     ]
    }
   ],
   "source": [
    "# -> remove any car that at least once was tested more than three times per day\n",
    "too_many_tests = num_tests_per_day[num_tests_per_day > 3] \n",
    "bad_vins = set(too_many_tests.reset_index()[\"VIN\"].unique())\n",
    "print(\"number of cars that experience weird testing patterns: {}\".format(len(bad_vins)))\n",
    "\n",
    "cars = cars[~cars[\"VIN\"].isin(bad_vins)]"
   ]
  },
  {
   "cell_type": "markdown",
   "metadata": {},
   "source": [
    "### Weird INSPECTOR_NUM"
   ]
  },
  {
   "cell_type": "code",
   "execution_count": 58,
   "metadata": {},
   "outputs": [
    {
     "name": "stdout",
     "output_type": "stream",
     "text": [
      "Inspectors whose INSPECTOR_NUM contains only numbers: 1139\n"
     ]
    }
   ],
   "source": [
    "# in earlier years, most INSPECTOR_NUM are numeric\n",
    "numeric = cars[\"INSPECTOR_NUM\"].str.match(\"[0-9]{5,8}\").fillna(False)\n",
    "num_numeric = cars[numeric][\"INSPECTOR_NUM\"].nunique()\n",
    "print(\"Inspectors whose INSPECTOR_NUM contains only numbers: {}\".format(num_numeric))"
   ]
  },
  {
   "cell_type": "code",
   "execution_count": 59,
   "metadata": {},
   "outputs": [
    {
     "data": {
      "text/plain": [
       "<matplotlib.axes._subplots.AxesSubplot at 0x7f32fb69acf8>"
      ]
     },
     "execution_count": 59,
     "metadata": {},
     "output_type": "execute_result"
    },
    {
     "data": {
      "image/png": "[encoded data removed]",
      "text/plain": [
       "<Figure size 432x288 with 1 Axes>"
      ]
     },
     "metadata": {
      "needs_background": "light"
     },
     "output_type": "display_data"
    }
   ],
   "source": [
    "cars[numeric][\"TEST_SDATE\"].hist()"
   ]
  },
  {
   "cell_type": "code",
   "execution_count": 60,
   "metadata": {},
   "outputs": [
    {
     "name": "stdout",
     "output_type": "stream",
     "text": [
      "Inspectors whose INSPECTOR_NUM is alphanumeric: 1625\n"
     ]
    }
   ],
   "source": [
    "# in later years, INSPECTOR_NUM often starts with an A followed by numbers and letters\n",
    "alphanumeric =  cars[\"INSPECTOR_NUM\"].str.match(\"A[A-Z0-9]{5,7}\").fillna(False)\n",
    "num_alphanumeric = cars[alphanumeric][\"INSPECTOR_NUM\"].nunique()\n",
    "print(\"Inspectors whose INSPECTOR_NUM is alphanumeric: {}\".format(num_alphanumeric))"
   ]
  },
  {
   "cell_type": "code",
   "execution_count": 61,
   "metadata": {},
   "outputs": [
    {
     "data": {
      "text/plain": [
       "<matplotlib.axes._subplots.AxesSubplot at 0x7f33573c4e10>"
      ]
     },
     "execution_count": 61,
     "metadata": {},
     "output_type": "execute_result"
    },
    {
     "data": {
      "image/png": "[encoded data removed]",
      "text/plain": [
       "<Figure size 432x288 with 1 Axes>"
      ]
     },
     "metadata": {
      "needs_background": "light"
     },
     "output_type": "display_data"
    }
   ],
   "source": [
    "cars[alphanumeric][\"TEST_SDATE\"].hist()"
   ]
  },
  {
   "cell_type": "code",
   "execution_count": 62,
   "metadata": {},
   "outputs": [
    {
     "name": "stdout",
     "output_type": "stream",
     "text": [
      "Inspectors whose INSPECTOR_NUM starts with EHVP: 16\n"
     ]
    }
   ],
   "source": [
    "# sometimes inspector num starts with EHVP\n",
    "# have observed that many training rows have an EHVP inspector num\n",
    "ehvp = cars[\"INSPECTOR_NUM\"].str.startswith(\"EHVP\")\n",
    "num_ehvp = cars[ehvp][\"INSPECTOR_NUM\"].nunique()\n",
    "print(\"Inspectors whose INSPECTOR_NUM starts with EHVP: {}\".format(num_ehvp))"
   ]
  },
  {
   "cell_type": "code",
   "execution_count": 63,
   "metadata": {},
   "outputs": [
    {
     "data": {
      "text/plain": [
       "<matplotlib.axes._subplots.AxesSubplot at 0x7f3355318828>"
      ]
     },
     "execution_count": 63,
     "metadata": {},
     "output_type": "execute_result"
    },
    {
     "data": {
      "image/png": "[encoded data removed]",
      "text/plain": [
       "<Figure size 432x288 with 1 Axes>"
      ]
     },
     "metadata": {
      "needs_background": "light"
     },
     "output_type": "display_data"
    }
   ],
   "source": [
    "cars[ehvp][\"TEST_SDATE\"].hist()"
   ]
  },
  {
   "cell_type": "code",
   "execution_count": 64,
   "metadata": {},
   "outputs": [
    {
     "name": "stdout",
     "output_type": "stream",
     "text": [
      "Inspectors whose INSPECTOR_NUM follows other scheme: 13\n"
     ]
    }
   ],
   "source": [
    "# and there are some random others\n",
    "other = ~numeric & ~alphanumeric &~ehvp\n",
    "num_other = cars[other][\"INSPECTOR_NUM\"].nunique()\n",
    "print(\"Inspectors whose INSPECTOR_NUM follows other scheme: {}\".format(num_other))"
   ]
  },
  {
   "cell_type": "code",
   "execution_count": 65,
   "metadata": {},
   "outputs": [
    {
     "data": {
      "text/plain": [
       "<matplotlib.axes._subplots.AxesSubplot at 0x7f3354aa6c88>"
      ]
     },
     "execution_count": 65,
     "metadata": {},
     "output_type": "execute_result"
    },
    {
     "data": {
      "image/png": "[encoded data removed]",
      "text/plain": [
       "<Figure size 432x288 with 1 Axes>"
      ]
     },
     "metadata": {
      "needs_background": "light"
     },
     "output_type": "display_data"
    }
   ],
   "source": [
    "cars[other][\"TEST_SDATE\"].hist()"
   ]
  },
  {
   "cell_type": "code",
   "execution_count": 66,
   "metadata": {},
   "outputs": [
    {
     "data": {
      "text/plain": [
       "Timothy    4750\n",
       "PATRICK    3634\n",
       "STEVEN     3148\n",
       "VPDM012    1327\n",
       "VPMD012     883\n",
       "STEVE       253\n",
       "5034        211\n",
       "40           94\n",
       "0            70\n",
       "LUIS          6\n",
       "9032          4\n",
       "A0002         4\n",
       "666HELL       1\n",
       "Name: INSPECTOR_NUM, dtype: int64"
      ]
     },
     "execution_count": 66,
     "metadata": {},
     "output_type": "execute_result"
    }
   ],
   "source": [
    "cars[other][\"INSPECTOR_NUM\"].value_counts()"
   ]
  },
  {
   "cell_type": "code",
   "execution_count": 67,
   "metadata": {},
   "outputs": [
    {
     "data": {
      "text/plain": [
       "12611"
      ]
     },
     "execution_count": 67,
     "metadata": {},
     "output_type": "execute_result"
    }
   ],
   "source": [
    "cars[other][\"VIN\"].nunique()"
   ]
  },
  {
   "cell_type": "code",
   "execution_count": 68,
   "metadata": {},
   "outputs": [],
   "source": [
    "bad_vins = set(cars[other | ehvp][\"VIN\"].unique())\n",
    "cars = cars[~cars[\"VIN\"].isin(bad_vins)]"
   ]
  },
  {
   "cell_type": "code",
   "execution_count": 69,
   "metadata": {},
   "outputs": [
    {
     "data": {
      "text/plain": [
       "3526232"
      ]
     },
     "execution_count": 69,
     "metadata": {},
     "output_type": "execute_result"
    }
   ],
   "source": [
    "len(cars)"
   ]
  },
  {
   "cell_type": "markdown",
   "metadata": {},
   "source": [
    "# Store cleaned dataset"
   ]
  },
  {
   "cell_type": "code",
   "execution_count": 70,
   "metadata": {},
   "outputs": [],
   "source": [
    "cars.to_csv(DATA_DIR / \"cleaned.csv\", index=False) "
   ]
  },
  {
   "cell_type": "markdown",
   "metadata": {},
   "source": [
    "# Make a sample"
   ]
  },
  {
   "cell_type": "code",
   "execution_count": 71,
   "metadata": {},
   "outputs": [],
   "source": [
    "np.random.seed(1234)"
   ]
  },
  {
   "cell_type": "code",
   "execution_count": 72,
   "metadata": {},
   "outputs": [],
   "source": [
    "sample = cars.groupby(\"VIN\").filter(lambda x: np.random.uniform() < 0.1)"
   ]
  },
  {
   "cell_type": "code",
   "execution_count": 73,
   "metadata": {},
   "outputs": [],
   "source": [
    "sample.to_csv(DATA_DIR / \"sample.csv\", index=False)"
   ]
  },
  {
   "cell_type": "markdown",
   "metadata": {},
   "source": [
    "# Get statistics after cleanup"
   ]
  },
  {
   "cell_type": "code",
   "execution_count": 76,
   "metadata": {},
   "outputs": [
    {
     "name": "stdout",
     "output_type": "stream",
     "text": [
      "Number of rows 3526232\n",
      "Number of columns 127\n",
      "Number of cars 1241697\n",
      "%fail 0.08835335420993473\n"
     ]
    }
   ],
   "source": [
    "print(\"Number of rows\", len(cars))\n",
    "print(\"Number of columns\", len(cars.columns))\n",
    "print(\"Number of cars\", cars[\"VIN\"].nunique())\n",
    "results = cars[\"OVERALL_RESULT\"].value_counts()\n",
    "print(\"%fail\", results.loc[\"F\"] / (results.loc[\"P\"]+results.loc[\"F\"]))"
   ]
  },
  {
   "cell_type": "code",
   "execution_count": 78,
   "metadata": {},
   "outputs": [
    {
     "name": "stdout",
     "output_type": "stream",
     "text": [
      "Number of rows 353364\n",
      "Number of columns 127\n",
      "Number of cars 124469\n",
      "%fail 0.08806521799342035\n"
     ]
    }
   ],
   "source": [
    "print(\"Number of rows\", len(sample))\n",
    "print(\"Number of columns\", len(sample.columns))\n",
    "print(\"Number of cars\", sample[\"VIN\"].nunique())\n",
    "results = sample[\"OVERALL_RESULT\"].value_counts()\n",
    "print(\"%fail\", results.loc[\"F\"] / (results.loc[\"P\"]+results.loc[\"F\"]))"
   ]
  },
  {
   "cell_type": "code",
   "execution_count": null,
   "metadata": {},
   "outputs": [],
   "source": []
  }
 ],
 "metadata": {
  "kernelspec": {
   "display_name": "Python 3",
   "language": "python",
   "name": "python3"
  },
  "language_info": {
   "codemirror_mode": {
    "name": "ipython",
    "version": 3
   },
   "file_extension": ".py",
   "mimetype": "text/x-python",
   "name": "python",
   "nbconvert_exporter": "python",
   "pygments_lexer": "ipython3",
   "version": "3.7.4"
  }
 },
 "nbformat": 4,
 "nbformat_minor": 2
}
